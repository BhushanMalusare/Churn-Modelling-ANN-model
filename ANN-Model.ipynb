{
 "cells": [
  {
   "cell_type": "code",
   "execution_count": 1,
   "id": "dff8baf5",
   "metadata": {},
   "outputs": [
    {
     "name": "stdout",
     "output_type": "stream",
     "text": [
      "2.11.0\n"
     ]
    }
   ],
   "source": [
    "import tensorflow as tf\n",
    "print(tf.__version__)"
   ]
  },
  {
   "cell_type": "code",
   "execution_count": 2,
   "id": "fd924aa2",
   "metadata": {},
   "outputs": [],
   "source": [
    "#import some basic libraries\n",
    "import numpy as np\n",
    "import matplotlib.pyplot as plt\n",
    "import pandas as pd\n"
   ]
  },
  {
   "cell_type": "code",
   "execution_count": 3,
   "id": "23e46847",
   "metadata": {},
   "outputs": [],
   "source": [
    "dataset=pd.read_csv('Churn_Modelling.csv')"
   ]
  },
  {
   "cell_type": "code",
   "execution_count": 4,
   "id": "36690224",
   "metadata": {},
   "outputs": [
    {
     "data": {
      "text/html": [
       "<div>\n",
       "<style scoped>\n",
       "    .dataframe tbody tr th:only-of-type {\n",
       "        vertical-align: middle;\n",
       "    }\n",
       "\n",
       "    .dataframe tbody tr th {\n",
       "        vertical-align: top;\n",
       "    }\n",
       "\n",
       "    .dataframe thead th {\n",
       "        text-align: right;\n",
       "    }\n",
       "</style>\n",
       "<table border=\"1\" class=\"dataframe\">\n",
       "  <thead>\n",
       "    <tr style=\"text-align: right;\">\n",
       "      <th></th>\n",
       "      <th>RowNumber</th>\n",
       "      <th>CustomerId</th>\n",
       "      <th>Surname</th>\n",
       "      <th>CreditScore</th>\n",
       "      <th>Geography</th>\n",
       "      <th>Gender</th>\n",
       "      <th>Age</th>\n",
       "      <th>Tenure</th>\n",
       "      <th>Balance</th>\n",
       "      <th>NumOfProducts</th>\n",
       "      <th>HasCrCard</th>\n",
       "      <th>IsActiveMember</th>\n",
       "      <th>EstimatedSalary</th>\n",
       "      <th>Exited</th>\n",
       "    </tr>\n",
       "  </thead>\n",
       "  <tbody>\n",
       "    <tr>\n",
       "      <th>0</th>\n",
       "      <td>1</td>\n",
       "      <td>15634602</td>\n",
       "      <td>Hargrave</td>\n",
       "      <td>619</td>\n",
       "      <td>France</td>\n",
       "      <td>Female</td>\n",
       "      <td>42</td>\n",
       "      <td>2</td>\n",
       "      <td>0.00</td>\n",
       "      <td>1</td>\n",
       "      <td>1</td>\n",
       "      <td>1</td>\n",
       "      <td>101348.88</td>\n",
       "      <td>1</td>\n",
       "    </tr>\n",
       "    <tr>\n",
       "      <th>1</th>\n",
       "      <td>2</td>\n",
       "      <td>15647311</td>\n",
       "      <td>Hill</td>\n",
       "      <td>608</td>\n",
       "      <td>Spain</td>\n",
       "      <td>Female</td>\n",
       "      <td>41</td>\n",
       "      <td>1</td>\n",
       "      <td>83807.86</td>\n",
       "      <td>1</td>\n",
       "      <td>0</td>\n",
       "      <td>1</td>\n",
       "      <td>112542.58</td>\n",
       "      <td>0</td>\n",
       "    </tr>\n",
       "    <tr>\n",
       "      <th>2</th>\n",
       "      <td>3</td>\n",
       "      <td>15619304</td>\n",
       "      <td>Onio</td>\n",
       "      <td>502</td>\n",
       "      <td>France</td>\n",
       "      <td>Female</td>\n",
       "      <td>42</td>\n",
       "      <td>8</td>\n",
       "      <td>159660.80</td>\n",
       "      <td>3</td>\n",
       "      <td>1</td>\n",
       "      <td>0</td>\n",
       "      <td>113931.57</td>\n",
       "      <td>1</td>\n",
       "    </tr>\n",
       "    <tr>\n",
       "      <th>3</th>\n",
       "      <td>4</td>\n",
       "      <td>15701354</td>\n",
       "      <td>Boni</td>\n",
       "      <td>699</td>\n",
       "      <td>France</td>\n",
       "      <td>Female</td>\n",
       "      <td>39</td>\n",
       "      <td>1</td>\n",
       "      <td>0.00</td>\n",
       "      <td>2</td>\n",
       "      <td>0</td>\n",
       "      <td>0</td>\n",
       "      <td>93826.63</td>\n",
       "      <td>0</td>\n",
       "    </tr>\n",
       "    <tr>\n",
       "      <th>4</th>\n",
       "      <td>5</td>\n",
       "      <td>15737888</td>\n",
       "      <td>Mitchell</td>\n",
       "      <td>850</td>\n",
       "      <td>Spain</td>\n",
       "      <td>Female</td>\n",
       "      <td>43</td>\n",
       "      <td>2</td>\n",
       "      <td>125510.82</td>\n",
       "      <td>1</td>\n",
       "      <td>1</td>\n",
       "      <td>1</td>\n",
       "      <td>79084.10</td>\n",
       "      <td>0</td>\n",
       "    </tr>\n",
       "  </tbody>\n",
       "</table>\n",
       "</div>"
      ],
      "text/plain": [
       "   RowNumber  CustomerId   Surname  CreditScore Geography  Gender  Age  \\\n",
       "0          1    15634602  Hargrave          619    France  Female   42   \n",
       "1          2    15647311      Hill          608     Spain  Female   41   \n",
       "2          3    15619304      Onio          502    France  Female   42   \n",
       "3          4    15701354      Boni          699    France  Female   39   \n",
       "4          5    15737888  Mitchell          850     Spain  Female   43   \n",
       "\n",
       "   Tenure    Balance  NumOfProducts  HasCrCard  IsActiveMember  \\\n",
       "0       2       0.00              1          1               1   \n",
       "1       1   83807.86              1          0               1   \n",
       "2       8  159660.80              3          1               0   \n",
       "3       1       0.00              2          0               0   \n",
       "4       2  125510.82              1          1               1   \n",
       "\n",
       "   EstimatedSalary  Exited  \n",
       "0        101348.88       1  \n",
       "1        112542.58       0  \n",
       "2        113931.57       1  \n",
       "3         93826.63       0  \n",
       "4         79084.10       0  "
      ]
     },
     "execution_count": 4,
     "metadata": {},
     "output_type": "execute_result"
    }
   ],
   "source": [
    "dataset.head()"
   ]
  },
  {
   "cell_type": "code",
   "execution_count": 5,
   "id": "07374181",
   "metadata": {},
   "outputs": [
    {
     "data": {
      "text/html": [
       "<div>\n",
       "<style scoped>\n",
       "    .dataframe tbody tr th:only-of-type {\n",
       "        vertical-align: middle;\n",
       "    }\n",
       "\n",
       "    .dataframe tbody tr th {\n",
       "        vertical-align: top;\n",
       "    }\n",
       "\n",
       "    .dataframe thead th {\n",
       "        text-align: right;\n",
       "    }\n",
       "</style>\n",
       "<table border=\"1\" class=\"dataframe\">\n",
       "  <thead>\n",
       "    <tr style=\"text-align: right;\">\n",
       "      <th></th>\n",
       "      <th>CreditScore</th>\n",
       "      <th>Geography</th>\n",
       "      <th>Gender</th>\n",
       "      <th>Age</th>\n",
       "      <th>Tenure</th>\n",
       "      <th>Balance</th>\n",
       "      <th>NumOfProducts</th>\n",
       "      <th>HasCrCard</th>\n",
       "      <th>IsActiveMember</th>\n",
       "      <th>EstimatedSalary</th>\n",
       "    </tr>\n",
       "  </thead>\n",
       "  <tbody>\n",
       "    <tr>\n",
       "      <th>0</th>\n",
       "      <td>619</td>\n",
       "      <td>France</td>\n",
       "      <td>Female</td>\n",
       "      <td>42</td>\n",
       "      <td>2</td>\n",
       "      <td>0.00</td>\n",
       "      <td>1</td>\n",
       "      <td>1</td>\n",
       "      <td>1</td>\n",
       "      <td>101348.88</td>\n",
       "    </tr>\n",
       "    <tr>\n",
       "      <th>1</th>\n",
       "      <td>608</td>\n",
       "      <td>Spain</td>\n",
       "      <td>Female</td>\n",
       "      <td>41</td>\n",
       "      <td>1</td>\n",
       "      <td>83807.86</td>\n",
       "      <td>1</td>\n",
       "      <td>0</td>\n",
       "      <td>1</td>\n",
       "      <td>112542.58</td>\n",
       "    </tr>\n",
       "    <tr>\n",
       "      <th>2</th>\n",
       "      <td>502</td>\n",
       "      <td>France</td>\n",
       "      <td>Female</td>\n",
       "      <td>42</td>\n",
       "      <td>8</td>\n",
       "      <td>159660.80</td>\n",
       "      <td>3</td>\n",
       "      <td>1</td>\n",
       "      <td>0</td>\n",
       "      <td>113931.57</td>\n",
       "    </tr>\n",
       "    <tr>\n",
       "      <th>3</th>\n",
       "      <td>699</td>\n",
       "      <td>France</td>\n",
       "      <td>Female</td>\n",
       "      <td>39</td>\n",
       "      <td>1</td>\n",
       "      <td>0.00</td>\n",
       "      <td>2</td>\n",
       "      <td>0</td>\n",
       "      <td>0</td>\n",
       "      <td>93826.63</td>\n",
       "    </tr>\n",
       "    <tr>\n",
       "      <th>4</th>\n",
       "      <td>850</td>\n",
       "      <td>Spain</td>\n",
       "      <td>Female</td>\n",
       "      <td>43</td>\n",
       "      <td>2</td>\n",
       "      <td>125510.82</td>\n",
       "      <td>1</td>\n",
       "      <td>1</td>\n",
       "      <td>1</td>\n",
       "      <td>79084.10</td>\n",
       "    </tr>\n",
       "  </tbody>\n",
       "</table>\n",
       "</div>"
      ],
      "text/plain": [
       "   CreditScore Geography  Gender  Age  Tenure    Balance  NumOfProducts  \\\n",
       "0          619    France  Female   42       2       0.00              1   \n",
       "1          608     Spain  Female   41       1   83807.86              1   \n",
       "2          502    France  Female   42       8  159660.80              3   \n",
       "3          699    France  Female   39       1       0.00              2   \n",
       "4          850     Spain  Female   43       2  125510.82              1   \n",
       "\n",
       "   HasCrCard  IsActiveMember  EstimatedSalary  \n",
       "0          1               1        101348.88  \n",
       "1          0               1        112542.58  \n",
       "2          1               0        113931.57  \n",
       "3          0               0         93826.63  \n",
       "4          1               1         79084.10  "
      ]
     },
     "execution_count": 5,
     "metadata": {},
     "output_type": "execute_result"
    }
   ],
   "source": [
    "## Divide the dataset into independent and dependent features\n",
    "x=dataset.iloc[:,3:13]\n",
    "x.head()"
   ]
  },
  {
   "cell_type": "code",
   "execution_count": 6,
   "id": "bb3273da",
   "metadata": {},
   "outputs": [
    {
     "data": {
      "text/plain": [
       "0    1\n",
       "1    0\n",
       "2    1\n",
       "3    0\n",
       "4    0\n",
       "Name: Exited, dtype: int64"
      ]
     },
     "execution_count": 6,
     "metadata": {},
     "output_type": "execute_result"
    }
   ],
   "source": [
    "y=dataset.iloc[:,13]\n",
    "y.head()"
   ]
  },
  {
   "cell_type": "code",
   "execution_count": 7,
   "id": "899a9ca6",
   "metadata": {},
   "outputs": [],
   "source": [
    "## Feature Engineering\n",
    "geography=pd.get_dummies(x['Geography'],drop_first=True)\n",
    "gender=pd.get_dummies(x['Gender'],drop_first=True)"
   ]
  },
  {
   "cell_type": "code",
   "execution_count": 8,
   "id": "b5a8ca39",
   "metadata": {},
   "outputs": [],
   "source": [
    "##Concatenate variables with dataframe"
   ]
  },
  {
   "cell_type": "code",
   "execution_count": 9,
   "id": "0dbc4ffb",
   "metadata": {},
   "outputs": [],
   "source": [
    "x.drop(['Geography','Gender'],axis=1,inplace=True)"
   ]
  },
  {
   "cell_type": "code",
   "execution_count": 10,
   "id": "e742c22f",
   "metadata": {},
   "outputs": [
    {
     "data": {
      "text/html": [
       "<div>\n",
       "<style scoped>\n",
       "    .dataframe tbody tr th:only-of-type {\n",
       "        vertical-align: middle;\n",
       "    }\n",
       "\n",
       "    .dataframe tbody tr th {\n",
       "        vertical-align: top;\n",
       "    }\n",
       "\n",
       "    .dataframe thead th {\n",
       "        text-align: right;\n",
       "    }\n",
       "</style>\n",
       "<table border=\"1\" class=\"dataframe\">\n",
       "  <thead>\n",
       "    <tr style=\"text-align: right;\">\n",
       "      <th></th>\n",
       "      <th>CreditScore</th>\n",
       "      <th>Age</th>\n",
       "      <th>Tenure</th>\n",
       "      <th>Balance</th>\n",
       "      <th>NumOfProducts</th>\n",
       "      <th>HasCrCard</th>\n",
       "      <th>IsActiveMember</th>\n",
       "      <th>EstimatedSalary</th>\n",
       "    </tr>\n",
       "  </thead>\n",
       "  <tbody>\n",
       "    <tr>\n",
       "      <th>0</th>\n",
       "      <td>619</td>\n",
       "      <td>42</td>\n",
       "      <td>2</td>\n",
       "      <td>0.00</td>\n",
       "      <td>1</td>\n",
       "      <td>1</td>\n",
       "      <td>1</td>\n",
       "      <td>101348.88</td>\n",
       "    </tr>\n",
       "    <tr>\n",
       "      <th>1</th>\n",
       "      <td>608</td>\n",
       "      <td>41</td>\n",
       "      <td>1</td>\n",
       "      <td>83807.86</td>\n",
       "      <td>1</td>\n",
       "      <td>0</td>\n",
       "      <td>1</td>\n",
       "      <td>112542.58</td>\n",
       "    </tr>\n",
       "    <tr>\n",
       "      <th>2</th>\n",
       "      <td>502</td>\n",
       "      <td>42</td>\n",
       "      <td>8</td>\n",
       "      <td>159660.80</td>\n",
       "      <td>3</td>\n",
       "      <td>1</td>\n",
       "      <td>0</td>\n",
       "      <td>113931.57</td>\n",
       "    </tr>\n",
       "    <tr>\n",
       "      <th>3</th>\n",
       "      <td>699</td>\n",
       "      <td>39</td>\n",
       "      <td>1</td>\n",
       "      <td>0.00</td>\n",
       "      <td>2</td>\n",
       "      <td>0</td>\n",
       "      <td>0</td>\n",
       "      <td>93826.63</td>\n",
       "    </tr>\n",
       "    <tr>\n",
       "      <th>4</th>\n",
       "      <td>850</td>\n",
       "      <td>43</td>\n",
       "      <td>2</td>\n",
       "      <td>125510.82</td>\n",
       "      <td>1</td>\n",
       "      <td>1</td>\n",
       "      <td>1</td>\n",
       "      <td>79084.10</td>\n",
       "    </tr>\n",
       "  </tbody>\n",
       "</table>\n",
       "</div>"
      ],
      "text/plain": [
       "   CreditScore  Age  Tenure    Balance  NumOfProducts  HasCrCard  \\\n",
       "0          619   42       2       0.00              1          1   \n",
       "1          608   41       1   83807.86              1          0   \n",
       "2          502   42       8  159660.80              3          1   \n",
       "3          699   39       1       0.00              2          0   \n",
       "4          850   43       2  125510.82              1          1   \n",
       "\n",
       "   IsActiveMember  EstimatedSalary  \n",
       "0               1        101348.88  \n",
       "1               1        112542.58  \n",
       "2               0        113931.57  \n",
       "3               0         93826.63  \n",
       "4               1         79084.10  "
      ]
     },
     "execution_count": 10,
     "metadata": {},
     "output_type": "execute_result"
    }
   ],
   "source": [
    "x.head()"
   ]
  },
  {
   "cell_type": "code",
   "execution_count": 11,
   "id": "e6cbe6c5",
   "metadata": {},
   "outputs": [],
   "source": [
    "x=pd.concat([x,geography,gender],axis=1)"
   ]
  },
  {
   "cell_type": "code",
   "execution_count": 12,
   "id": "29e118ae",
   "metadata": {},
   "outputs": [],
   "source": [
    "## Splitting the dataset in train and test dataset\n",
    "from sklearn.model_selection import train_test_split"
   ]
  },
  {
   "cell_type": "code",
   "execution_count": 13,
   "id": "05c901e7",
   "metadata": {},
   "outputs": [],
   "source": [
    "x_train,x_test,y_train,y_test=train_test_split(x,y,test_size=0.2,random_state=0)"
   ]
  },
  {
   "cell_type": "code",
   "execution_count": 14,
   "id": "32ce25c6",
   "metadata": {},
   "outputs": [],
   "source": [
    "## Feature Scalinng\n",
    "from sklearn.preprocessing import StandardScaler"
   ]
  },
  {
   "cell_type": "code",
   "execution_count": 15,
   "id": "78e5007f",
   "metadata": {},
   "outputs": [],
   "source": [
    "sc=StandardScaler()\n",
    "x_train=sc.fit_transform(x_train)"
   ]
  },
  {
   "cell_type": "code",
   "execution_count": 16,
   "id": "a88486d7",
   "metadata": {},
   "outputs": [],
   "source": [
    "x_test=sc.transform(x_test)"
   ]
  },
  {
   "cell_type": "code",
   "execution_count": 17,
   "id": "3ed77ea4",
   "metadata": {},
   "outputs": [
    {
     "data": {
      "text/plain": [
       "array([[ 0.16958176, -0.46460796,  0.00666099, ..., -0.5698444 ,\n",
       "         1.74309049, -1.09168714],\n",
       "       [-2.30455945,  0.30102557, -1.37744033, ...,  1.75486502,\n",
       "        -0.57369368,  0.91601335],\n",
       "       [-1.19119591, -0.94312892, -1.031415  , ..., -0.5698444 ,\n",
       "        -0.57369368, -1.09168714],\n",
       "       ...,\n",
       "       [ 0.9015152 , -0.36890377,  0.00666099, ..., -0.5698444 ,\n",
       "        -0.57369368,  0.91601335],\n",
       "       [-0.62420521, -0.08179119,  1.39076231, ..., -0.5698444 ,\n",
       "         1.74309049, -1.09168714],\n",
       "       [-0.28401079,  0.87525072, -1.37744033, ...,  1.75486502,\n",
       "        -0.57369368, -1.09168714]])"
      ]
     },
     "execution_count": 17,
     "metadata": {},
     "output_type": "execute_result"
    }
   ],
   "source": [
    "x_train"
   ]
  },
  {
   "cell_type": "code",
   "execution_count": 18,
   "id": "03ada95b",
   "metadata": {},
   "outputs": [
    {
     "data": {
      "text/plain": [
       "array([[-0.55204276, -0.36890377,  1.04473698, ...,  1.75486502,\n",
       "        -0.57369368, -1.09168714],\n",
       "       [-1.31490297,  0.10961719, -1.031415  , ..., -0.5698444 ,\n",
       "        -0.57369368, -1.09168714],\n",
       "       [ 0.57162971,  0.30102557,  1.04473698, ..., -0.5698444 ,\n",
       "         1.74309049, -1.09168714],\n",
       "       ...,\n",
       "       [-0.74791227, -0.27319958, -1.37744033, ..., -0.5698444 ,\n",
       "         1.74309049,  0.91601335],\n",
       "       [-0.00566991, -0.46460796, -0.33936434, ...,  1.75486502,\n",
       "        -0.57369368,  0.91601335],\n",
       "       [-0.79945688, -0.84742473,  1.04473698, ...,  1.75486502,\n",
       "        -0.57369368,  0.91601335]])"
      ]
     },
     "execution_count": 18,
     "metadata": {},
     "output_type": "execute_result"
    }
   ],
   "source": [
    "x_test"
   ]
  },
  {
   "cell_type": "code",
   "execution_count": 19,
   "id": "2eb0276c",
   "metadata": {},
   "outputs": [
    {
     "data": {
      "text/plain": [
       "(8000, 11)"
      ]
     },
     "execution_count": 19,
     "metadata": {},
     "output_type": "execute_result"
    }
   ],
   "source": [
    "x_train.shape"
   ]
  },
  {
   "cell_type": "code",
   "execution_count": 20,
   "id": "474a71da",
   "metadata": {},
   "outputs": [],
   "source": [
    "## Part 2\n",
    "##Creating the ANN"
   ]
  },
  {
   "cell_type": "code",
   "execution_count": 41,
   "id": "2e93e2a9",
   "metadata": {},
   "outputs": [],
   "source": [
    "from tensorflow.keras.models import Sequential\n",
    "from tensorflow.keras.layers import Dense\n",
    "from tensorflow.keras.layers import LeakyReLU,PReLU,ELU,ReLU\n",
    "from tensorflow.keras.layers import Dropout"
   ]
  },
  {
   "cell_type": "code",
   "execution_count": 42,
   "id": "5bb31fae",
   "metadata": {},
   "outputs": [],
   "source": [
    "### Lets intialize ANN\n",
    "classifier=Sequential()"
   ]
  },
  {
   "cell_type": "code",
   "execution_count": 43,
   "id": "5934cc28",
   "metadata": {},
   "outputs": [],
   "source": [
    "##Adding the input layer"
   ]
  },
  {
   "cell_type": "code",
   "execution_count": 44,
   "id": "d6011579",
   "metadata": {},
   "outputs": [],
   "source": [
    "classifier.add(Dense(units=11,activation='relu'))"
   ]
  },
  {
   "cell_type": "code",
   "execution_count": 45,
   "id": "4c50de6a",
   "metadata": {},
   "outputs": [],
   "source": [
    "##adding first hidden layer\n",
    "classifier.add(Dense(units=7,activation='relu'))\n",
    "classifier.add(Dropout(0.2))"
   ]
  },
  {
   "cell_type": "code",
   "execution_count": 46,
   "id": "107730f8",
   "metadata": {},
   "outputs": [],
   "source": [
    "## adding second hidden layer\n",
    "classifier.add(Dense(units=6,activation='relu'))\n",
    "classifier.add(Dropout(0.3))"
   ]
  },
  {
   "cell_type": "code",
   "execution_count": 47,
   "id": "9f2ace41",
   "metadata": {},
   "outputs": [],
   "source": [
    "## adding output layer\n",
    "classifier.add(Dense(units=1,activation='sigmoid'))"
   ]
  },
  {
   "cell_type": "code",
   "execution_count": 48,
   "id": "356abecd",
   "metadata": {},
   "outputs": [],
   "source": [
    "import tensorflow\n",
    "opt=tensorflow.keras.optimizers.Adam(learning_rate=0.01)"
   ]
  },
  {
   "cell_type": "code",
   "execution_count": 49,
   "id": "3dc58592",
   "metadata": {},
   "outputs": [],
   "source": [
    "classifier.compile(optimizer=opt,loss='binary_crossentropy',metrics=['accuracy'])"
   ]
  },
  {
   "cell_type": "code",
   "execution_count": 50,
   "id": "f0de3192",
   "metadata": {},
   "outputs": [],
   "source": [
    "#Early stoping\n",
    "import tensorflow as tf\n",
    "early_stoping=tf.keras.callbacks.EarlyStopping(\n",
    "    monitor=\"val_loss\",\n",
    "    min_delta=0.001,\n",
    "    patience=20,\n",
    "    verbose=1,\n",
    "    mode=\"auto\",\n",
    "    baseline=None,\n",
    "    restore_best_weights=False,\n",
    "    start_from_epoch=0,\n",
    ")"
   ]
  },
  {
   "cell_type": "code",
   "execution_count": 51,
   "id": "632d2da9",
   "metadata": {},
   "outputs": [
    {
     "name": "stdout",
     "output_type": "stream",
     "text": [
      "Epoch 1/1000\n",
      "536/536 [==============================] - 1s 1ms/step - loss: 0.4703 - accuracy: 0.8001 - val_loss: 0.4070 - val_accuracy: 0.8152\n",
      "Epoch 2/1000\n",
      "536/536 [==============================] - 1s 1ms/step - loss: 0.4162 - accuracy: 0.8233 - val_loss: 0.3817 - val_accuracy: 0.8387\n",
      "Epoch 3/1000\n",
      "536/536 [==============================] - 1s 1ms/step - loss: 0.4035 - accuracy: 0.8294 - val_loss: 0.3816 - val_accuracy: 0.8357\n",
      "Epoch 4/1000\n",
      "536/536 [==============================] - 1s 1ms/step - loss: 0.3978 - accuracy: 0.8345 - val_loss: 0.3822 - val_accuracy: 0.8360\n",
      "Epoch 5/1000\n",
      "536/536 [==============================] - 1s 1ms/step - loss: 0.3951 - accuracy: 0.8365 - val_loss: 0.3724 - val_accuracy: 0.8387\n",
      "Epoch 6/1000\n",
      "536/536 [==============================] - 1s 1ms/step - loss: 0.3978 - accuracy: 0.8354 - val_loss: 0.3724 - val_accuracy: 0.8448\n",
      "Epoch 7/1000\n",
      "536/536 [==============================] - 1s 1ms/step - loss: 0.3917 - accuracy: 0.8369 - val_loss: 0.3817 - val_accuracy: 0.8413\n",
      "Epoch 8/1000\n",
      "536/536 [==============================] - 1s 1ms/step - loss: 0.3956 - accuracy: 0.8315 - val_loss: 0.3812 - val_accuracy: 0.8417\n",
      "Epoch 9/1000\n",
      "536/536 [==============================] - 1s 1ms/step - loss: 0.3921 - accuracy: 0.8341 - val_loss: 0.3714 - val_accuracy: 0.8436\n",
      "Epoch 10/1000\n",
      "536/536 [==============================] - 1s 1ms/step - loss: 0.3920 - accuracy: 0.8350 - val_loss: 0.3742 - val_accuracy: 0.8432\n",
      "Epoch 11/1000\n",
      "536/536 [==============================] - 1s 1ms/step - loss: 0.3929 - accuracy: 0.8352 - val_loss: 0.3716 - val_accuracy: 0.8470\n",
      "Epoch 12/1000\n",
      "536/536 [==============================] - 1s 1ms/step - loss: 0.3835 - accuracy: 0.8414 - val_loss: 0.3590 - val_accuracy: 0.8523\n",
      "Epoch 13/1000\n",
      "536/536 [==============================] - 1s 1ms/step - loss: 0.3860 - accuracy: 0.8405 - val_loss: 0.3702 - val_accuracy: 0.8451\n",
      "Epoch 14/1000\n",
      "536/536 [==============================] - 1s 1ms/step - loss: 0.3769 - accuracy: 0.8442 - val_loss: 0.3596 - val_accuracy: 0.8565\n",
      "Epoch 15/1000\n",
      "536/536 [==============================] - 1s 1ms/step - loss: 0.3766 - accuracy: 0.8444 - val_loss: 0.3670 - val_accuracy: 0.8470\n",
      "Epoch 16/1000\n",
      "536/536 [==============================] - 1s 1ms/step - loss: 0.3810 - accuracy: 0.8414 - val_loss: 0.3709 - val_accuracy: 0.8432\n",
      "Epoch 17/1000\n",
      "536/536 [==============================] - 1s 1ms/step - loss: 0.3729 - accuracy: 0.8457 - val_loss: 0.3652 - val_accuracy: 0.8474\n",
      "Epoch 18/1000\n",
      "536/536 [==============================] - 1s 1ms/step - loss: 0.3728 - accuracy: 0.8442 - val_loss: 0.3672 - val_accuracy: 0.8519\n",
      "Epoch 19/1000\n",
      "536/536 [==============================] - 1s 1ms/step - loss: 0.3756 - accuracy: 0.8416 - val_loss: 0.3548 - val_accuracy: 0.8569\n",
      "Epoch 20/1000\n",
      "536/536 [==============================] - 1s 1ms/step - loss: 0.3769 - accuracy: 0.8470 - val_loss: 0.3577 - val_accuracy: 0.8508\n",
      "Epoch 21/1000\n",
      "536/536 [==============================] - 1s 1ms/step - loss: 0.3738 - accuracy: 0.8475 - val_loss: 0.3619 - val_accuracy: 0.8554\n",
      "Epoch 22/1000\n",
      "536/536 [==============================] - 1s 1ms/step - loss: 0.3711 - accuracy: 0.8466 - val_loss: 0.3724 - val_accuracy: 0.8379\n",
      "Epoch 23/1000\n",
      "536/536 [==============================] - 1s 1ms/step - loss: 0.3752 - accuracy: 0.8461 - val_loss: 0.3706 - val_accuracy: 0.8391\n",
      "Epoch 24/1000\n",
      "536/536 [==============================] - 1s 1ms/step - loss: 0.3646 - accuracy: 0.8507 - val_loss: 0.3585 - val_accuracy: 0.8501\n",
      "Epoch 25/1000\n",
      "536/536 [==============================] - 1s 1ms/step - loss: 0.3712 - accuracy: 0.8477 - val_loss: 0.3562 - val_accuracy: 0.8504\n",
      "Epoch 26/1000\n",
      "536/536 [==============================] - 1s 1ms/step - loss: 0.3709 - accuracy: 0.8447 - val_loss: 0.3628 - val_accuracy: 0.8565\n",
      "Epoch 27/1000\n",
      "536/536 [==============================] - 1s 1ms/step - loss: 0.3733 - accuracy: 0.8475 - val_loss: 0.3581 - val_accuracy: 0.8493\n",
      "Epoch 28/1000\n",
      "536/536 [==============================] - 1s 1ms/step - loss: 0.3709 - accuracy: 0.8496 - val_loss: 0.3593 - val_accuracy: 0.8516\n",
      "Epoch 29/1000\n",
      "536/536 [==============================] - 1s 1ms/step - loss: 0.3715 - accuracy: 0.8477 - val_loss: 0.3559 - val_accuracy: 0.8535\n",
      "Epoch 30/1000\n",
      "536/536 [==============================] - 1s 1ms/step - loss: 0.3689 - accuracy: 0.8479 - val_loss: 0.3671 - val_accuracy: 0.8459\n",
      "Epoch 31/1000\n",
      "536/536 [==============================] - 1s 1ms/step - loss: 0.3746 - accuracy: 0.8472 - val_loss: 0.3670 - val_accuracy: 0.8474\n",
      "Epoch 32/1000\n",
      "536/536 [==============================] - 1s 1ms/step - loss: 0.3642 - accuracy: 0.8528 - val_loss: 0.3628 - val_accuracy: 0.8463\n",
      "Epoch 33/1000\n",
      "536/536 [==============================] - 1s 1ms/step - loss: 0.3668 - accuracy: 0.8474 - val_loss: 0.3623 - val_accuracy: 0.8527\n",
      "Epoch 34/1000\n",
      "536/536 [==============================] - 1s 1ms/step - loss: 0.3685 - accuracy: 0.8483 - val_loss: 0.3623 - val_accuracy: 0.8440\n",
      "Epoch 35/1000\n",
      "536/536 [==============================] - 1s 1ms/step - loss: 0.3668 - accuracy: 0.8483 - val_loss: 0.3713 - val_accuracy: 0.8432\n",
      "Epoch 36/1000\n",
      "536/536 [==============================] - 1s 1ms/step - loss: 0.3694 - accuracy: 0.8485 - val_loss: 0.3666 - val_accuracy: 0.8455\n",
      "Epoch 37/1000\n",
      "536/536 [==============================] - 1s 1ms/step - loss: 0.3686 - accuracy: 0.8517 - val_loss: 0.3635 - val_accuracy: 0.8466\n",
      "Epoch 38/1000\n",
      "536/536 [==============================] - 1s 1ms/step - loss: 0.3671 - accuracy: 0.8472 - val_loss: 0.3699 - val_accuracy: 0.8432\n",
      "Epoch 39/1000\n",
      "536/536 [==============================] - 1s 1ms/step - loss: 0.3669 - accuracy: 0.8509 - val_loss: 0.3687 - val_accuracy: 0.8440\n",
      "Epoch 39: early stopping\n"
     ]
    }
   ],
   "source": [
    "model_history=classifier.fit(x_train,y_train,validation_split=0.33,batch_size=10,epochs=1000,callbacks=early_stoping)"
   ]
  },
  {
   "cell_type": "code",
   "execution_count": 52,
   "id": "f57c39b0",
   "metadata": {},
   "outputs": [
    {
     "data": {
      "text/plain": [
       "dict_keys(['loss', 'accuracy', 'val_loss', 'val_accuracy'])"
      ]
     },
     "execution_count": 52,
     "metadata": {},
     "output_type": "execute_result"
    }
   ],
   "source": [
    "model_history.history.keys()"
   ]
  },
  {
   "cell_type": "code",
   "execution_count": 53,
   "id": "6d121f9d",
   "metadata": {},
   "outputs": [
    {
     "data": {
      "text/plain": [
       "<matplotlib.legend.Legend at 0x2af508d25b0>"
      ]
     },
     "execution_count": 53,
     "metadata": {},
     "output_type": "execute_result"
    },
    {
     "data": {
      "image/png": "[encoded data removed]",
      "text/plain": [
       "<Figure size 640x480 with 1 Axes>"
      ]
     },
     "metadata": {},
     "output_type": "display_data"
    }
   ],
   "source": [
    "## Summary for accuracy\n",
    "plt.plot(model_history.history['accuracy'])\n",
    "plt.plot(model_history.history['val_accuracy'])\n",
    "plt.title('model accuracy')\n",
    "plt.ylabel('accuracy')\n",
    "plt.xlabel('epoch')\n",
    "plt.legend(['train','test'],loc='upper left')"
   ]
  },
  {
   "cell_type": "code",
   "execution_count": 54,
   "id": "4ed13fb2",
   "metadata": {},
   "outputs": [
    {
     "data": {
      "text/plain": [
       "<matplotlib.legend.Legend at 0x2af51b16550>"
      ]
     },
     "execution_count": 54,
     "metadata": {},
     "output_type": "execute_result"
    },
    {
     "data": {
      "image/png": "[encoded data removed]",
      "text/plain": [
       "<Figure size 640x480 with 1 Axes>"
      ]
     },
     "metadata": {},
     "output_type": "display_data"
    }
   ],
   "source": [
    "plt.plot(model_history.history['loss'])\n",
    "plt.plot(model_history.history['val_loss'])\n",
    "plt.title('model aloss')\n",
    "plt.ylabel('loss')\n",
    "plt.xlabel('epoch')\n",
    "plt.legend(['train','test'],loc='upper left')"
   ]
  },
  {
   "cell_type": "code",
   "execution_count": 55,
   "id": "c507dd15",
   "metadata": {},
   "outputs": [
    {
     "name": "stdout",
     "output_type": "stream",
     "text": [
      "63/63 [==============================] - 0s 758us/step\n"
     ]
    }
   ],
   "source": [
    "## part 3 :- Making the prediction\n",
    "#predicting the test set results\n",
    "y_pred=classifier.predict(x_test)\n",
    "y_pred=(y_pred>=0.5)"
   ]
  },
  {
   "cell_type": "code",
   "execution_count": 56,
   "id": "9f6f1819",
   "metadata": {},
   "outputs": [
    {
     "data": {
      "text/plain": [
       "array([[1575,   20],\n",
       "       [ 274,  131]], dtype=int64)"
      ]
     },
     "execution_count": 56,
     "metadata": {},
     "output_type": "execute_result"
    }
   ],
   "source": [
    "## make the confusion matrix\n",
    "from sklearn.metrics import confusion_matrix\n",
    "cm=confusion_matrix(y_test,y_pred)\n",
    "cm"
   ]
  },
  {
   "cell_type": "code",
   "execution_count": 57,
   "id": "b4ec7b4c",
   "metadata": {},
   "outputs": [],
   "source": [
    "## calculate the accuracy\n",
    "from sklearn.metrics import accuracy_score"
   ]
  },
  {
   "cell_type": "code",
   "execution_count": 58,
   "id": "c8e7cefd",
   "metadata": {},
   "outputs": [],
   "source": [
    "score=accuracy_score(y_pred,y_test)"
   ]
  },
  {
   "cell_type": "code",
   "execution_count": 59,
   "id": "fbb77264",
   "metadata": {},
   "outputs": [
    {
     "data": {
      "text/plain": [
       "0.853"
      ]
     },
     "execution_count": 59,
     "metadata": {},
     "output_type": "execute_result"
    }
   ],
   "source": [
    "score"
   ]
  },
  {
   "cell_type": "code",
   "execution_count": 60,
   "id": "55b96d7f",
   "metadata": {},
   "outputs": [
    {
     "data": {
      "text/plain": [
       "[array([[ 1.81892022e-01,  5.61054707e-01,  8.76973271e-02,\n",
       "         -4.64662313e-01, -2.30219617e-01,  2.04369724e-01,\n",
       "          5.16472936e-01,  2.78780431e-01, -2.65635867e-02,\n",
       "          1.69796348e-01, -9.38003600e-01],\n",
       "        [ 2.00204760e-01,  5.10588825e-01, -2.34669399e+00,\n",
       "          1.30961984e-01,  1.61688611e-01,  1.35032308e+00,\n",
       "         -1.59072459e+00,  2.41397572e+00, -4.66841340e-01,\n",
       "         -3.32946730e+00, -1.26106954e+00],\n",
       "        [ 4.01347399e-01, -1.18668854e+00,  1.29131779e-01,\n",
       "          6.91374540e-01,  1.30150929e-01, -1.33989662e-01,\n",
       "          1.09702957e+00,  2.43919715e-01,  3.97663176e-01,\n",
       "          1.40519351e-01,  7.46344849e-02],\n",
       "        [ 1.53496712e-01,  1.78373587e+00, -2.72476435e-01,\n",
       "          6.71565652e-01, -3.12212420e+00,  3.25472623e-01,\n",
       "         -2.04571772e+00, -8.67754042e-01, -2.64836574e+00,\n",
       "         -6.90090477e-01, -3.58522832e-01],\n",
       "        [ 3.76317072e+00,  1.95731175e+00,  1.46538049e-01,\n",
       "         -1.28609109e+00, -3.72201061e+00, -1.36351359e+00,\n",
       "          2.06477493e-01, -1.93550453e-01,  4.00060564e-01,\n",
       "         -7.74237886e-02,  3.23688418e-01],\n",
       "        [ 1.25027284e-01,  2.95646012e-01,  7.99160480e-01,\n",
       "          1.30602992e+00, -4.51395810e-01,  1.34306386e-01,\n",
       "         -7.73489058e-01, -2.43690178e-01, -4.64994907e-01,\n",
       "         -7.62400389e-01,  1.02588601e-01],\n",
       "        [-5.61067343e-01, -1.27058291e+00, -1.92317680e-01,\n",
       "          2.20154360e-01, -5.88754714e-01, -2.61644363e+00,\n",
       "          4.69100267e-01,  1.10364187e+00,  3.13174486e-01,\n",
       "         -9.84720170e-01,  8.81170690e-01],\n",
       "        [ 3.10337823e-02,  5.02639294e-01,  2.19439521e-01,\n",
       "          4.26264107e-01,  5.11897922e-01,  1.46857247e-01,\n",
       "         -1.27448618e+00,  1.52619481e-01,  1.24174619e+00,\n",
       "          1.97858036e-01, -4.03597727e-02],\n",
       "        [ 5.70456028e-01, -1.98770225e+00,  2.84784585e-01,\n",
       "          8.06683183e-01,  2.15560222e+00,  4.34718460e-01,\n",
       "         -9.08543229e-01,  4.42855269e-01,  6.98560059e-01,\n",
       "         -2.19233021e-01,  1.20074415e+00],\n",
       "        [ 2.84396857e-01,  2.17343032e-01,  3.72188777e-01,\n",
       "         -5.51707566e-01, -4.00783598e-01,  6.59305036e-01,\n",
       "         -1.25358224e+00, -5.18335328e-02,  5.16609788e-01,\n",
       "         -2.15347409e+00,  3.13852020e-02],\n",
       "        [-1.65363535e-01, -1.54364407e-01,  5.46946786e-02,\n",
       "         -2.34389496e+00, -1.14433885e-01,  3.91999841e-01,\n",
       "          1.52309108e+00,  1.24957867e-01,  9.75576043e-01,\n",
       "          2.79866189e-01,  3.30932066e-03]], dtype=float32),\n",
       " array([-3.2782178, -1.6815013,  3.4326606, -2.224128 , -1.1728685,\n",
       "        -1.9697756, -0.8523738, -4.4389005, -1.0571737,  0.6282874,\n",
       "        -3.0102348], dtype=float32),\n",
       " array([[-0.05500424,  2.4260721 , -0.2654293 , -1.671027  , -1.5742741 ,\n",
       "         -2.4453218 ,  2.1332245 ],\n",
       "        [-0.14963375,  0.71571267, -0.2651064 , -3.1384041 , -0.19500743,\n",
       "         -0.3847694 ,  0.6334969 ],\n",
       "        [-0.3202173 , -1.832432  , -0.05977036,  0.25946847,  0.4096074 ,\n",
       "          0.6502982 , -1.245859  ],\n",
       "        [-0.40330458,  0.4109803 , -0.8562632 , -2.269948  , -0.30138397,\n",
       "         -0.8537968 , -0.5496962 ],\n",
       "        [-0.12961252,  0.77165467, -0.49072883, -3.0154216 , -2.373821  ,\n",
       "         -1.4188824 ,  0.76526666],\n",
       "        [-0.52062243,  0.46811402,  0.06521741, -1.7139854 , -0.6551275 ,\n",
       "         -0.38644373,  0.847824  ],\n",
       "        [-0.06486081,  0.0161333 , -0.2064799 ,  0.28596544,  0.8076833 ,\n",
       "          0.6940738 , -2.3042817 ],\n",
       "        [-0.49962375, -2.2225282 , -0.56346965,  1.0372957 ,  2.311966  ,\n",
       "          2.2009676 , -3.186475  ],\n",
       "        [-0.34425542, -0.10170006, -0.5776971 ,  0.8249143 ,  0.57625747,\n",
       "          0.70806813,  0.40961266],\n",
       "        [ 0.14593434, -2.239655  ,  0.0734496 , -0.5246834 ,  0.2761823 ,\n",
       "          0.57980496, -0.5464677 ],\n",
       "        [-0.54194   ,  0.37782374, -0.26288837,  0.30020338,  0.22395809,\n",
       "          0.4866936 , -0.5200484 ]], dtype=float32),\n",
       " array([-0.29637194,  0.44477755, -0.6251731 ,  0.19666913, -0.0414893 ,\n",
       "         0.4288368 , -2.0521014 ], dtype=float32),\n",
       " array([[-0.68552417, -0.19896561,  0.4469661 , -0.617556  ,  0.32686362,\n",
       "         -0.2204495 ],\n",
       "        [ 0.22304605, -1.3881159 , -1.6596497 , -0.55803025,  0.3025073 ,\n",
       "         -0.6378314 ],\n",
       "        [ 0.15822098, -0.2041822 ,  0.10363348,  0.18804215, -0.23300463,\n",
       "         -0.42571372],\n",
       "        [-1.3184497 ,  0.73609936,  0.6312921 ,  0.01155845, -2.8943875 ,\n",
       "         -0.28270265],\n",
       "        [-0.5105474 ,  0.22319745,  0.29596114, -0.46437892, -0.7629064 ,\n",
       "         -0.37344325],\n",
       "        [-0.74093515,  0.14484662,  0.17765689, -0.11477761, -0.6175088 ,\n",
       "         -0.37129533],\n",
       "        [ 0.47374263, -0.83367246, -2.0296202 , -0.74049896,  0.46359506,\n",
       "         -0.27194563]], dtype=float32),\n",
       " array([ 0.89315873,  0.16803603,  0.10859099, -0.48912323,  0.6684996 ,\n",
       "        -0.7309111 ], dtype=float32),\n",
       " array([[ 0.31933498],\n",
       "        [-0.1974385 ],\n",
       "        [-0.20204444],\n",
       "        [ 0.19543576],\n",
       "        [ 0.33538088],\n",
       "        [ 0.5129713 ]], dtype=float32),\n",
       " array([-1.4093499], dtype=float32)]"
      ]
     },
     "execution_count": 60,
     "metadata": {},
     "output_type": "execute_result"
    }
   ],
   "source": [
    "## get the weights\n",
    "classifier.get_weights()"
   ]
  },
  {
   "cell_type": "markdown",
   "id": "90997dc4",
   "metadata": {},
   "source": [
    "# Execute this in google colab to get info about what model is best for your dataset \n",
    "\n",
    " best_model=compare_models()"
   ]
  },
  {
   "cell_type": "code",
   "execution_count": null,
   "id": "be5cb430",
   "metadata": {},
   "outputs": [],
   "source": []
  }
 ],
 "metadata": {
  "kernelspec": {
   "display_name": "Python 3 (ipykernel)",
   "language": "python",
   "name": "python3"
  },
  "language_info": {
   "codemirror_mode": {
    "name": "ipython",
    "version": 3
   },
   "file_extension": ".py",
   "mimetype": "text/x-python",
   "name": "python",
   "nbconvert_exporter": "python",
   "pygments_lexer": "ipython3",
   "version": "3.11.2"
  }
 },
 "nbformat": 4,
 "nbformat_minor": 5
}
